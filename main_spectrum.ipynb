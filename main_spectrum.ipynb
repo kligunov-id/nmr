{
 "cells": [
  {
   "cell_type": "markdown",
   "id": "a11ad66b-2811-47de-9175-a4bf992ec370",
   "metadata": {},
   "source": [
    "# NMR spectrum analysis"
   ]
  },
  {
   "cell_type": "markdown",
   "id": "1c7afab2-9b07-43e1-8756-106eb3b8b0b0",
   "metadata": {},
   "source": [
    "## 1. Получение спектра "
   ]
  },
  {
   "cell_type": "markdown",
   "id": "be1abb8e-2adc-40f9-afa3-ade7ead405e0",
   "metadata": {},
   "source": [
    "### 1.1 Загрузка даных"
   ]
  },
  {
   "cell_type": "code",
   "execution_count": null,
   "id": "82eaefd5-ea47-4f26-ba58-e130528057e2",
   "metadata": {},
   "outputs": [],
   "source": [
    "import numpy as np\n",
    "import nmrglue as nmr"
   ]
  },
  {
   "cell_type": "markdown",
   "id": "fe46bb03-80c2-42cc-9ed1-d1a28d5c8003",
   "metadata": {},
   "source": [
    "Содержимое папки `1H`:"
   ]
  },
  {
   "cell_type": "code",
   "execution_count": null,
   "id": "b6d972ba-ea1f-4ef9-81b3-0c7f0212c1dc",
   "metadata": {},
   "outputs": [],
   "source": [
    "ls 1H"
   ]
  },
  {
   "cell_type": "markdown",
   "id": "2237f8b0-baac-4907-8995-85b02689a2cb",
   "metadata": {},
   "source": [
    "Брутто-формулы (как видно наша это `C6H12O2` под номером 2):"
   ]
  },
  {
   "cell_type": "code",
   "execution_count": null,
   "id": "3b99b50c-ae56-4b1d-825b-270d17e0fb3c",
   "metadata": {},
   "outputs": [],
   "source": [
    "cat 1H/Брутоформулы.txt"
   ]
  },
  {
   "cell_type": "code",
   "execution_count": null,
   "id": "df4e6108-9ff2-4460-833e-147410e5f721",
   "metadata": {},
   "outputs": [],
   "source": [
    "# nmrglue.variant.read() принимает папку, а не файл\n",
    "metadata, signal = nmr.varian.read(\"1H/1H-2-CDCl3.fid\")\n",
    "type(metadata), type(signal)"
   ]
  },
  {
   "cell_type": "markdown",
   "id": "b2981acf-06bb-4b31-86d2-e753aee72c02",
   "metadata": {},
   "source": [
    "Метаданые это большой словарь с нечитаемыми полями:"
   ]
  },
  {
   "cell_type": "code",
   "execution_count": null,
   "id": "b5ea59ef-83a0-421c-8866-5a9b867bcb5c",
   "metadata": {},
   "outputs": [],
   "source": [
    "metadata.keys()"
   ]
  },
  {
   "cell_type": "markdown",
   "id": "345a1520-0f73-4a0d-b1dc-232f960bdb43",
   "metadata": {},
   "source": [
    "Описания полей можно найти только в документации производителя (и то не факт, что это открытая информация), `nmrglue` к большому сожалению их не приводит. В нём существует функция `guess_udic`, которая экстрагирует наиболее важные значения и представляет в формате, описываемой документацией `nmrglue`. К сожалению, у меня не получилось заставить её работать с этими данными"
   ]
  },
  {
   "cell_type": "markdown",
   "id": "8fafd2ec-99f1-4093-91b9-c0e66c71e386",
   "metadata": {},
   "source": [
    "К счастью, нам сообщили названия нужных нам полей:"
   ]
  },
  {
   "cell_type": "code",
   "execution_count": null,
   "id": "4eecfcc0-9d71-4308-b57c-b566fe3edc15",
   "metadata": {},
   "outputs": [],
   "source": [
    "# [key for key in metadata[\"procpar\"].keys() if \"fr\" in key]"
   ]
  },
  {
   "cell_type": "code",
   "execution_count": null,
   "id": "f4e182b5-8306-454c-88b4-baa05dd73dfb",
   "metadata": {},
   "outputs": [],
   "source": [
    "nu_0 = float(metadata[\"procpar\"][\"sfrq\"]['values'][0]) * 1e6 # 500 MHz = nu_0\n",
    "nu_0"
   ]
  },
  {
   "cell_type": "code",
   "execution_count": null,
   "id": "4bc5bb1c-1afd-443c-80dd-7b6158b1b004",
   "metadata": {},
   "outputs": [],
   "source": [
    "signal_t = float(metadata[\"procpar\"][\"at\"][\"values\"][0]) # Signal recording time, seconds\n",
    "signal_t"
   ]
  },
  {
   "cell_type": "markdown",
   "id": "9d383063-2b9a-488e-8d44-314a2b4eed0a",
   "metadata": {},
   "source": [
    "Сигнал это простой одномерный массив _комплексных_ чисел:"
   ]
  },
  {
   "cell_type": "code",
   "execution_count": null,
   "id": "9a4794f3-1ebc-482e-8590-23e084cde3e3",
   "metadata": {},
   "outputs": [],
   "source": [
    "signal.shape, signal.dtype"
   ]
  },
  {
   "cell_type": "markdown",
   "id": "5a324aa9-ab74-4800-8ca6-a6017b2fd963",
   "metadata": {},
   "source": [
    "### 1.2 Необработанный сигнал"
   ]
  },
  {
   "cell_type": "code",
   "execution_count": null,
   "id": "84e8dc15-5694-4b6a-beec-3ee7ddca5eaf",
   "metadata": {},
   "outputs": [],
   "source": [
    "import matplotlib\n",
    "import matplotlib.pyplot as plt\n",
    "import seaborn as sns\n",
    "\n",
    "scale = 5\n",
    "ratio = (1 + 5 ** 0.5) / 2\n",
    "matplotlib.rcParams[\"figure.figsize\"] = scale * ratio, scale\n",
    "%config InlineBackend.figure_format='retina'\n",
    "\n",
    "sns.set()"
   ]
  },
  {
   "cell_type": "code",
   "execution_count": null,
   "id": "7312b54d-3b54-423e-ad10-9f7355276acd",
   "metadata": {},
   "outputs": [],
   "source": [
    "plt.plot(signal.real, label=\"Re\", linewidth=1, alpha=0.7);"
   ]
  },
  {
   "cell_type": "code",
   "execution_count": null,
   "id": "12c29a1e-6ea7-4f57-92e7-4e24026cf39d",
   "metadata": {},
   "outputs": [],
   "source": [
    "plt.plot(signal.imag, linewidth=1, alpha=0.7);"
   ]
  },
  {
   "cell_type": "markdown",
   "id": "6b00b5cb-7872-4638-8a56-6d93223d2925",
   "metadata": {},
   "source": [
    "Мнимые и действительные части очень похожи. Также после 10000 временных единиц график не отличается от нуля"
   ]
  },
  {
   "cell_type": "code",
   "execution_count": null,
   "id": "270ecb5b-b979-4945-82ef-9d24293d2db3",
   "metadata": {},
   "outputs": [],
   "source": [
    "plt.plot(np.abs(signal), linewidth=.7, alpha=0.7)\n",
    "plt.xlim(0, 6000);"
   ]
  },
  {
   "cell_type": "markdown",
   "id": "363fdd99-1ac9-4cda-ba49-1eda17bdac46",
   "metadata": {},
   "source": [
    "### 1.3 Необработанный спектр"
   ]
  },
  {
   "cell_type": "markdown",
   "id": "4836643f-c665-4991-865d-447f5221b4c8",
   "metadata": {},
   "source": [
    "Спектр можно получить пприменив преобразование Фурье к сигналу:"
   ]
  },
  {
   "cell_type": "code",
   "execution_count": null,
   "id": "baa48f18-9003-4747-acd2-0da4e539cc2e",
   "metadata": {},
   "outputs": [],
   "source": [
    "spectrum = nmr.process.proc_base.fft(signal)"
   ]
  },
  {
   "cell_type": "code",
   "execution_count": null,
   "id": "082fb8b3-4cb4-4f0d-b90c-3e8f7d2ad9ad",
   "metadata": {},
   "outputs": [],
   "source": [
    "plt.plot(spectrum.real);"
   ]
  },
  {
   "cell_type": "markdown",
   "id": "08f3a3e4-8f76-4d2a-b498-c83eb8965dae",
   "metadata": {},
   "source": [
    "Чтобы соотнести номер точки и соответствующую ей частоту, достаточно знать полное время регистрации сигнала (и детали реализации пребразования):"
   ]
  },
  {
   "cell_type": "code",
   "execution_count": null,
   "id": "771f0efe-c703-4b35-8d92-e7b197fc088b",
   "metadata": {},
   "outputs": [],
   "source": [
    "spectrum_max_Hz = (signal.shape[0] - 1) / signal_t\n",
    "spectrum_max_Hz"
   ]
  },
  {
   "cell_type": "code",
   "execution_count": null,
   "id": "5f61c1eb-3d5d-4c24-9e4f-9f2817f46f4a",
   "metadata": {},
   "outputs": [],
   "source": [
    "spectrum_Hz = np.linspace(0, spectrum_max_Hz, signal.shape[0])"
   ]
  },
  {
   "cell_type": "markdown",
   "id": "1da44a8c-e925-4efa-a61b-9f947e0a18fa",
   "metadata": {},
   "source": [
    "## 2. Обработка спектра"
   ]
  },
  {
   "cell_type": "markdown",
   "id": "b6a0363a-bf7f-4e41-9046-eca742c269fe",
   "metadata": {},
   "source": [
    "### 2.1 Коррекция фазы"
   ]
  },
  {
   "cell_type": "markdown",
   "id": "b421e40d-936d-4cdc-9973-9844a4e8b829",
   "metadata": {},
   "source": [
    "#### 2.1.a Встроенная ручная коррекция фазы"
   ]
  },
  {
   "cell_type": "markdown",
   "id": "e1bb9b03-b5bd-4678-83ae-2aec0e8617b5",
   "metadata": {},
   "source": [
    "Коррекция фазы в ручном режиме встроенной функцией:"
   ]
  },
  {
   "cell_type": "code",
   "execution_count": null,
   "id": "6485b91d-e482-4974-aa90-91c1aa7dd55b",
   "metadata": {},
   "outputs": [],
   "source": [
    "nmr.process.proc_autophase.manual_ps(spectrum, notebook=True)"
   ]
  },
  {
   "cell_type": "markdown",
   "id": "51030034-5af6-4f36-b16d-a68e60e30e51",
   "metadata": {},
   "source": [
    "Низкая скорость ответа никуда не годится, поэтому приведём гораздо более функциональный вариант."
   ]
  },
  {
   "cell_type": "markdown",
   "id": "98789caa-fb37-4f0f-a3af-bc5cd572655e",
   "metadata": {},
   "source": [
    "#### 2.1.b Ручная коррекция фазы"
   ]
  },
  {
   "cell_type": "markdown",
   "id": "e0e54a91-cde1-4ede-a51f-1b42eb7599d9",
   "metadata": {},
   "source": [
    "Для создание минимального UI будем пользоваться виджетами Jupyter-а. Возможно они требуют установки отдельной библиотеки, возможно она уже установилась при установки самого Juputer"
   ]
  },
  {
   "cell_type": "code",
   "execution_count": null,
   "id": "1f6301fa-e007-4baf-a16d-917d343d5fe8",
   "metadata": {},
   "outputs": [],
   "source": [
    "import ipywidgets as widgets"
   ]
  },
  {
   "cell_type": "markdown",
   "id": "2e445d5b-53c6-43a7-bf7c-81d2880e199f",
   "metadata": {},
   "source": [
    "Ввод коэффициентов для коррекции фазы:"
   ]
  },
  {
   "cell_type": "code",
   "execution_count": null,
   "id": "453139ad-5f48-49ba-a071-b025d26c1a17",
   "metadata": {},
   "outputs": [],
   "source": [
    "p0_slider = widgets.FloatSlider(\n",
    "    value=-110,\n",
    "    min=-180,\n",
    "    max=180,\n",
    "    step=.5,\n",
    ")\n",
    "p0_input = widgets.FloatText(\n",
    "    value=-110,\n",
    "    min=-180,\n",
    "    max=180,\n",
    "    step=.5,\n",
    ")\n",
    "p0_label = widgets.Label(value=\"Zero order phase $\\\\;p_0$, degrees:\")\n",
    "\n",
    "\n",
    "link = widgets.link((p0_slider, 'value'), (p0_input, 'value'))\n",
    "\n",
    "p0_block = widgets.VBox([p0_label, p0_slider, p0_input])"
   ]
  },
  {
   "cell_type": "code",
   "execution_count": null,
   "id": "3186d571-7b10-4265-82f7-ad7e216352e3",
   "metadata": {},
   "outputs": [],
   "source": [
    "p1_slider = widgets.FloatSlider(\n",
    "    min=-180,\n",
    "    max=180,\n",
    "    step=.5,\n",
    ")\n",
    "p1_input = widgets.FloatText(\n",
    "    value=0,\n",
    "    min=-180,\n",
    "    max=180,\n",
    "    step=.5,\n",
    ")\n",
    "p1_label = widgets.Label(value=\"First order phase $\\\\;p_1$, degrees:\")\n",
    "\n",
    "\n",
    "link = widgets.link((p1_slider, 'value'), (p1_input, 'value'))\n",
    "\n",
    "p1_block = widgets.VBox([p1_label, p1_slider, p1_input])"
   ]
  },
  {
   "cell_type": "code",
   "execution_count": null,
   "id": "3ee9b5b6-c0f7-4d5e-a4e4-52aa96bfc0bc",
   "metadata": {},
   "outputs": [],
   "source": [
    "phase_correction = widgets.HBox([\n",
    "    p0_block,\n",
    "    p1_block\n",
    "])"
   ]
  },
  {
   "cell_type": "markdown",
   "id": "497097ff-85c9-497e-a2ca-194e49fec43d",
   "metadata": {},
   "source": [
    "Дополнительные параметры"
   ]
  },
  {
   "cell_type": "code",
   "execution_count": null,
   "id": "3bf03080-c879-456a-aba0-c858b13efb36",
   "metadata": {},
   "outputs": [],
   "source": [
    "logscale = widgets.Checkbox(\n",
    "    description=\"Use logscale for y axis (experimental)\",\n",
    "    value=False,\n",
    "    indent=False,\n",
    ")\n",
    "\n",
    "subsampling = widgets.Checkbox(\n",
    "    description=\"Operate on every 5th point\",\n",
    "    value=False,\n",
    "    indent=False,\n",
    ")\n",
    "\n",
    "fit_y = widgets.Button(\n",
    "    description=\"Fit y axis limits\",\n",
    ")\n",
    "\n",
    "double_x = widgets.Button(\n",
    "    description=\"Expand x axis limits\",\n",
    "    layout=widgets.Layout(width='auto')\n",
    ")\n",
    "\n",
    "options = widgets.VBox([\n",
    "    subsampling,\n",
    "    logscale,\n",
    "    widgets.HBox([fit_y, double_x]),\n",
    "])"
   ]
  },
  {
   "cell_type": "markdown",
   "id": "2914c067-f0f1-4578-80eb-ec9152c7f5cd",
   "metadata": {},
   "source": [
    "Общий блок с виджетами:"
   ]
  },
  {
   "cell_type": "code",
   "execution_count": null,
   "id": "3bdf7e85-f403-49a1-9257-f63bba087112",
   "metadata": {},
   "outputs": [],
   "source": [
    "controls = widgets.Tab(\n",
    "    children=[phase_correction, options],\n",
    "    titles=[\"Phase correction\", \"Options\"]\n",
    ")"
   ]
  },
  {
   "cell_type": "markdown",
   "id": "eba298fd-ea9b-4879-8323-dec27ad1c24b",
   "metadata": {},
   "source": [
    "Чтобы получить быстрое обновление графиков (и бонусом навигацию), заменим бэкенд `matplotlib` на `ipyml`. Чтобы это можно было сделать, нужно установить библиотеку с таким же названием."
   ]
  },
  {
   "cell_type": "code",
   "execution_count": null,
   "id": "a23a30a8-26f8-441d-a989-816ec155e30f",
   "metadata": {},
   "outputs": [],
   "source": [
    "%matplotlib ipympl\n",
    "\n",
    "matplotlib.style.use('fast') # Could theoretically speed up rendering\n",
    "\n",
    "if 'figure' in globals():\n",
    "    # With ipympl you have to manually close previous figures,\n",
    "    # even from previous runs of the same cell\n",
    "    plt.close(figure)\n",
    "\n",
    "figure = plt.figure()\n",
    "line, = plt.plot(nmr.proc_base.ps(spectrum, p0_slider.value, p1_slider.value).real)\n",
    "xrange = np.arange(spectrum.shape[0])\n",
    "\n",
    "xrange_subsampled = xrange[::5]\n",
    "spectrum_subsampled = spectrum[::5]\n",
    "\n",
    "last_phased_spectrum = np.array([])\n",
    "last_xrange = np.array([])\n",
    "\n",
    "def update_ylims(button_clicked):\n",
    "    x_min, x_max = plt.xlim()\n",
    "    visible_spectrum = last_phased_spectrum[\n",
    "        (x_min <= last_xrange) & (last_xrange <= x_max)\n",
    "    ]\n",
    "    y_min, y_max = visible_spectrum.min(), visible_spectrum.max()\n",
    "    yrange = y_max - y_min\n",
    "    plt.ylim(y_min - 0.1 * yrange, y_max + 0.1 * yrange)\n",
    "\n",
    "fit_y.on_click(update_ylims)\n",
    "\n",
    "x_min_min, x_max_max = plt.xlim()\n",
    "\n",
    "def double_x_range(button_clicked):\n",
    "    x_min, x_max = plt.xlim()\n",
    "    x_range = x_max - x_min\n",
    "    new_x_min = max(x_min_min, x_min - 0.5 * x_range)\n",
    "    new_x_max = min(x_max_max, x_max + 0.5 * x_range)\n",
    "    plt.xlim(new_x_min, new_x_max)\n",
    "    update_ylims(button_clicked)\n",
    "\n",
    "double_x.on_click(double_x_range)\n",
    "\n",
    "def redraw_spectrum(p0, p1, subsampling, logscale):\n",
    "    xrange_ = xrange if not subsampling else xrange_subsampled\n",
    "    spectrum_ = spectrum if not subsampling else spectrum_subsampled\n",
    "    \n",
    "    phased_spectrum = nmr.proc_base.ps(spectrum_, p0, p1).real\n",
    "    \n",
    "    if logscale:\n",
    "        xrange_ = xrange_[phased_spectrum > 0]\n",
    "        phased_spectrum = np.log(phased_spectrum[phased_spectrum > 0])\n",
    "    \n",
    "    line.set_data(xrange_, phased_spectrum)\n",
    "    \n",
    "    figure.canvas.draw()\n",
    "    figure.canvas.flush_events() # Probably not needed\n",
    "\n",
    "    global last_phased_spectrum, last_xrange\n",
    "    last_phased_spectrum = phased_spectrum\n",
    "    last_xrange = xrange_\n",
    "\n",
    "out = widgets.interactive_output(\n",
    "    redraw_spectrum,\n",
    "    {\n",
    "        'p0': p0_slider,\n",
    "        'p1': p1_slider,\n",
    "        'subsampling': subsampling,\n",
    "        'logscale': logscale,\n",
    "    }\n",
    ")\n",
    "\n",
    "widgets.VBox([controls, out])"
   ]
  },
  {
   "cell_type": "markdown",
   "id": "25c6a7e1-8445-4bf2-a1d7-704f308d307f",
   "metadata": {},
   "source": [
    "Значения только что подобранных вручную коэффициентов:"
   ]
  },
  {
   "cell_type": "code",
   "execution_count": null,
   "id": "8ef1f483-eb48-487c-9c46-54b38ab7d476",
   "metadata": {},
   "outputs": [],
   "source": [
    "p_manual = (p0_slider.value, p1_slider.value)\n",
    "p_manual"
   ]
  },
  {
   "cell_type": "markdown",
   "id": "5becf6fd-85d5-42c0-8308-e47886ec6c7c",
   "metadata": {},
   "source": [
    "Интерактивный бекэнд может быть не очень удобен, вернёмся к обычному"
   ]
  },
  {
   "cell_type": "markdown",
   "id": "0ee895c0-42af-4f9c-9ca9-b1f20fcd28a6",
   "metadata": {},
   "source": [
    "#### 2.1.с Автоматическая коррекция фазы"
   ]
  },
  {
   "cell_type": "code",
   "execution_count": null,
   "id": "e229ddfa-1a0e-47c5-8bf2-3eff7e2add04",
   "metadata": {},
   "outputs": [],
   "source": [
    "_, p_automatic = nmr.process.proc_autophase.autops(spectrum, 'acme', p0=0.0, p1=0.0, return_phases=True)\n",
    "\n",
    "print(f\"\\nOptimized phases, degrees\\n    p0: {p_automatic[0]}\\n    p1: {p_automatic[1]}\")"
   ]
  },
  {
   "cell_type": "code",
   "execution_count": null,
   "id": "1f6484d1-d685-4472-9cb8-2912ba853be9",
   "metadata": {},
   "outputs": [],
   "source": [
    "autophased_spectrum = nmr.proc_base.ps(spectrum, *p_automatic).real"
   ]
  },
  {
   "cell_type": "code",
   "execution_count": null,
   "id": "0698cb87-cf44-4045-821b-1049dd5c624e",
   "metadata": {},
   "outputs": [],
   "source": [
    "if 'figure_autophased' in locals():\n",
    "    plt.close(figure_autophased)\n",
    "\n",
    "figure_autophased = plt.figure()\n",
    "\n",
    "plt.plot(autophased_spectrum);"
   ]
  },
  {
   "cell_type": "markdown",
   "id": "7fe3a2c5-a5f0-426b-9bf3-72a6a28ba6f4",
   "metadata": {},
   "source": [
    "#### 2.1.d Результирующая фаза"
   ]
  },
  {
   "cell_type": "code",
   "execution_count": null,
   "id": "8ed33c6f-0362-4727-baf2-f297a0d412f2",
   "metadata": {},
   "outputs": [],
   "source": [
    "phase_correction_type = widgets.ToggleButtons(\n",
    "    options=[\"Hardcoded\", \"Manual\", \"Automatic\"]\n",
    ")\n",
    "\n",
    "p = (None, None)\n",
    "p_hardcoded = (-125, 0)\n",
    "phased_spectrum = []\n",
    "\n",
    "out = widgets.Output()\n",
    "\n",
    "def update_phase_correction_type(phase_correction_type):\n",
    "    global p, phased_spectrum\n",
    "    \n",
    "    if phase_correction_type == \"Manual\":\n",
    "        p = (p0_slider.value, p1_slider.value)\n",
    "    elif phase_correction_type == \"Automatic\":\n",
    "        p = p_automatic\n",
    "    else:\n",
    "        p = p_hardcoded\n",
    "        \n",
    "    phased_spectrum = nmr.proc_base.ps(spectrum, *p).real\n",
    "    print(f\"Using '{phase_correction_type}' value for phase correction.\")\n",
    "    print(f\"p0: {p[0]:.2f}, p1: {p[1]:.2f}\")\n",
    "    \n",
    "out = widgets.interactive_output(\n",
    "    update_phase_correction_type,\n",
    "    dict(phase_correction_type=phase_correction_type)\n",
    ")\n",
    "\n",
    "widgets.VBox([phase_correction_type, out])"
   ]
  },
  {
   "cell_type": "markdown",
   "id": "60add12e-8d6b-4f90-b683-ceeafd1bab80",
   "metadata": {},
   "source": [
    "### 2.2 Коррекция базового уровня"
   ]
  },
  {
   "cell_type": "markdown",
   "id": "83959d58-d9e8-49f3-94ba-be8d9c574fb2",
   "metadata": {},
   "source": [
    "Коррекция базового уровня выполняется с помощью функций подмодуля `nmrglue.proc_bl`. К сожалению их документация слишком скудна чтобы понять, как их правильно использовать, поэтому воспользуемся одной из тех, что не требуют обязательных параметров..."
   ]
  },
  {
   "cell_type": "code",
   "execution_count": null,
   "id": "ef7edcd7-11cf-4763-97fe-7d6a14b3de9f",
   "metadata": {},
   "outputs": [],
   "source": [
    "based_spectrum = nmr.proc_bl.baseline_corrector(phased_spectrum)\n",
    "\n",
    "if 'figure_baseline' in globals():\n",
    "    plt.close(figure_baseline)\n",
    "\n",
    "figure_baseline = plt.figure()\n",
    "\n",
    "plt.plot(based_spectrum);"
   ]
  },
  {
   "cell_type": "markdown",
   "id": "bb6dd05f-c35c-4d31-92db-c615c20bdd86",
   "metadata": {},
   "source": [
    "Базовая линия действительно улучшилась"
   ]
  },
  {
   "cell_type": "markdown",
   "id": "cf12e831-3014-4284-80c2-7472b5a38054",
   "metadata": {},
   "source": [
    "### 2.3 Zero correction"
   ]
  },
  {
   "cell_type": "code",
   "execution_count": null,
   "id": "76dae787-bb45-4e53-b068-6c0358be7d26",
   "metadata": {},
   "outputs": [],
   "source": [
    "chloroform_Hz = spectrum_Hz[10134] # Chloroform peak is located at 10134 (from our spectral data)\n",
    "chloroform_Hz"
   ]
  },
  {
   "cell_type": "code",
   "execution_count": null,
   "id": "209b179b-c652-4f6a-9b6d-1ddd67e739b9",
   "metadata": {},
   "outputs": [],
   "source": [
    "choloform_shift = 7.24 # Known value"
   ]
  },
  {
   "cell_type": "code",
   "execution_count": null,
   "id": "a9dd8135-904f-4d49-a8e3-60d937c6cf68",
   "metadata": {},
   "outputs": [],
   "source": [
    "chem_shifts = choloform_shift - (spectrum_Hz - chloroform_Hz) / nu_0 * 1e6"
   ]
  },
  {
   "cell_type": "code",
   "execution_count": null,
   "id": "5aa85cf0-8077-4b51-9c43-05549dd45210",
   "metadata": {},
   "outputs": [],
   "source": [
    "if 'figure_zero' in globals():\n",
    "    plt.close(figure_zero)\n",
    "\n",
    "figure_zero = plt.figure()\n",
    "plt.xlim(0, 10)\n",
    "plt.gca().invert_xaxis()\n",
    "\n",
    "plt.plot(chem_shifts, based_spectrum);"
   ]
  },
  {
   "cell_type": "markdown",
   "id": "e1d42aa2-f917-4c24-9a58-b4677f707a73",
   "metadata": {},
   "source": [
    "## 3 Анализ спектров"
   ]
  },
  {
   "cell_type": "markdown",
   "id": "7ef7d15c-4b0b-40c5-b6e7-f5912a4ff54d",
   "metadata": {},
   "source": [
    "### 3.1 Интегрирование пиков"
   ]
  },
  {
   "cell_type": "code",
   "execution_count": null,
   "id": "75f64629-2ce6-42ff-a805-004eed8ee180",
   "metadata": {},
   "outputs": [],
   "source": [
    "peak_x_ranges = [\n",
    "    (15000, 15100),\n",
    "    #(15600, 15800),\n",
    "    (17900, 18300),\n",
    "    (18600, 18900),\n",
    "    (18900, 19200),\n",
    "    (19600, 19900),\n",
    "]\n",
    "\n",
    "# Peaks can also be determined automatically:\n",
    "nmr.analysis.peakpick.pick(based_spectrum, pthres=50000, table=True, algorithm=\"connected\")"
   ]
  },
  {
   "cell_type": "markdown",
   "id": "4038f642-ca0c-42aa-a1dc-63645af286f4",
   "metadata": {},
   "source": [
    "Автоматическое определение пиков занижает ширину некоторых пиков и даёт ложные срабатывания, поэтому будем использовать размеченные вручную."
   ]
  },
  {
   "cell_type": "markdown",
   "id": "38e87ec1-9eac-4a67-a2e2-9aabd1441851",
   "metadata": {},
   "source": [
    "Интегрирование пиков будем производить вручную. Хотя `nmrglue` и имеет подмодуль `nmrglue.analysis.integration`, он содержит всего две функции (для одномерного и многомерного интегрирования). По неизвестным причинам он в качестве обязательного параметра принимает `filebaseio.unit_conversion`- объект, предназначенный для работы с размерностями. При создании напрямую он требует 5 обязательных параметров, которые не хочется искать. Адекватный способ создания в документации приведён, но зависит от формата данных (так как подтягивает эти параметры из метаданных, которые у каждого формата свои). У вариана этой функции нет. Можно сконвертировать в pipe, но эти значения будут заполнены случайно.\n",
    "\n",
    "Вместо всего это безобразия вызванного незрелостью библиотеки достаточно просто сделать `np.sum()`. "
   ]
  },
  {
   "cell_type": "code",
   "execution_count": null,
   "id": "7fb15b6f-a39a-43d8-98c6-13edd78f67a3",
   "metadata": {},
   "outputs": [],
   "source": [
    "peak_integrals = [\n",
    "    based_spectrum[x_min:x_max].sum()\n",
    "    for x_min, x_max in peak_x_ranges\n",
    "]\n",
    "\n",
    "peak_integrals"
   ]
  },
  {
   "cell_type": "code",
   "execution_count": null,
   "id": "c4215d7b-adae-4d18-8f6c-c0b54a899b40",
   "metadata": {},
   "outputs": [],
   "source": [
    "relative_integrals = peak_integrals / peak_integrals[0]\n",
    "\n",
    "print(*[f\"{value:.2f}\" for value in relative_integrals], sep=\"\\n\")"
   ]
  },
  {
   "cell_type": "code",
   "execution_count": null,
   "id": "d748a621-c1c3-449b-8002-bb7d3e465862",
   "metadata": {},
   "outputs": [],
   "source": [
    "mult = 5\n",
    "print(*[f\"{value:.2f}\" for value in relative_integrals * mult], sep=\"  \")"
   ]
  },
  {
   "cell_type": "markdown",
   "id": "64173e96-da9d-423d-90a5-b5e119e3374a",
   "metadata": {},
   "source": [
    "### 3.2 Расщепления"
   ]
  },
  {
   "cell_type": "markdown",
   "id": "1a1fb374-5f13-40e3-a768-09c017726a25",
   "metadata": {},
   "source": [
    "Ну тут все смогут пик приблизить и посмотреть на него...\n",
    "Правда в нескольких местах действительно неочевидно"
   ]
  },
  {
   "cell_type": "markdown",
   "id": "896c9fbd-05c4-41ea-8542-b955730a90b1",
   "metadata": {},
   "source": [
    "## Результы/Выводы"
   ]
  },
  {
   "cell_type": "markdown",
   "id": "12bb39f8-979f-4eda-8372-2b60173dd342",
   "metadata": {},
   "source": [
    "ту ту та ту ту то"
   ]
  }
 ],
 "metadata": {
  "kernelspec": {
   "display_name": "Python 3 (ipykernel)",
   "language": "python",
   "name": "python3"
  },
  "language_info": {
   "codemirror_mode": {
    "name": "ipython",
    "version": 3
   },
   "file_extension": ".py",
   "mimetype": "text/x-python",
   "name": "python",
   "nbconvert_exporter": "python",
   "pygments_lexer": "ipython3",
   "version": "3.12.3"
  }
 },
 "nbformat": 4,
 "nbformat_minor": 5
}
